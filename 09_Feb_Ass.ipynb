{
 "cells": [
  {
   "cell_type": "code",
   "execution_count": 2,
   "id": "522ba5c0-a1d8-4b98-91b8-faacd66f2b2a",
   "metadata": {},
   "outputs": [],
   "source": [
    "                          ASSIGNMENT-9Feb(oops part-3)"
   ]
  },
  {
   "cell_type": "code",
   "execution_count": null,
   "id": "0013f348-1141-43df-be09-7949e8ef5eba",
   "metadata": {},
   "outputs": [],
   "source": [
    "Q1, Create a vehicle class with an init method having instance variables as name_of_vehicle, max_speed\n",
    "and average_of_vehicle."
   ]
  },
  {
   "cell_type": "code",
   "execution_count": 5,
   "id": "25a1c4c3-0bc1-40d0-8063-e3d6bcd7217f",
   "metadata": {},
   "outputs": [],
   "source": [
    "ANS=>\n",
    "class vehicle:\n",
    "    def __init__(self,name,speed,average):\n",
    "        self.vehicle_name=name\n",
    "        self.max_speed=speed if speed>0 else 0\n",
    "        self.avg_of_vehicle=average\n",
    "    def result(self):\n",
    "        print(self.vehicle_name,\"\\n\",self.max_speed,\"\\n\",\n",
    "              self.avg_of_vehicle,\"Km/l\")\n",
    "              "
   ]
  },
  {
   "cell_type": "code",
   "execution_count": 6,
   "id": "1429a963-c2b6-47fc-a80a-e0c56fd2b6c4",
   "metadata": {},
   "outputs": [],
   "source": [
    "obj=vehicle(\"maruti\",101,20)"
   ]
  },
  {
   "cell_type": "code",
   "execution_count": 7,
   "id": "b6615ccd-0b17-47be-8af6-040e056a5451",
   "metadata": {},
   "outputs": [
    {
     "name": "stdout",
     "output_type": "stream",
     "text": [
      "maruti \n",
      " 101 \n",
      " 20 Km/l\n"
     ]
    }
   ],
   "source": [
    "obj.result()"
   ]
  },
  {
   "cell_type": "code",
   "execution_count": null,
   "id": "0f2a6e0a-77ba-4cfd-bfa0-4372b7ef7e44",
   "metadata": {},
   "outputs": [],
   "source": []
  },
  {
   "cell_type": "code",
   "execution_count": null,
   "id": "36d96ae8-7738-43c1-968b-706060a513be",
   "metadata": {},
   "outputs": [],
   "source": []
  },
  {
   "cell_type": "code",
   "execution_count": null,
   "id": "f099f180-7a18-4c0c-8322-dcaab5dfc2a4",
   "metadata": {},
   "outputs": [],
   "source": [
    "Q2. Create a child class car from the vehicle class created in Que 1, which will inherit the vehicle class.\n",
    "Create a method named seating_capacity which takes capacity as an argument and returns the name of\n",
    "the vehicle and its seating capacity."
   ]
  },
  {
   "cell_type": "code",
   "execution_count": null,
   "id": "159d12c7-88b6-4f64-b16c-2aa0024bd41c",
   "metadata": {},
   "outputs": [],
   "source": [
    "ANS=>"
   ]
  },
  {
   "cell_type": "code",
   "execution_count": 8,
   "id": "abaefb31-0727-47c4-b702-2412be067a86",
   "metadata": {},
   "outputs": [],
   "source": [
    "class car(vehicle):\n",
    "    def seating_capacity(self,seat):\n",
    "        self.seating_capacity=seat\n",
    "    def result(self):\n",
    "        return self.vehicle_name,self.seating_capacity\n",
    "        "
   ]
  },
  {
   "cell_type": "code",
   "execution_count": 9,
   "id": "cf4594ef-9659-4a55-a9ed-08624b8ba8b4",
   "metadata": {},
   "outputs": [],
   "source": [
    "obj=car(\"tata\",101,30)"
   ]
  },
  {
   "cell_type": "code",
   "execution_count": 10,
   "id": "0cd95be8-fb3e-40f8-941b-f0ff17a91aee",
   "metadata": {},
   "outputs": [],
   "source": [
    "obj.seating_capacity(6)"
   ]
  },
  {
   "cell_type": "code",
   "execution_count": 11,
   "id": "7c870f78-e9c3-489f-810a-5b70ef8ee627",
   "metadata": {},
   "outputs": [
    {
     "data": {
      "text/plain": [
       "('tata', 6)"
      ]
     },
     "execution_count": 11,
     "metadata": {},
     "output_type": "execute_result"
    }
   ],
   "source": [
    "obj.result()"
   ]
  },
  {
   "cell_type": "code",
   "execution_count": null,
   "id": "e5d512db-9b96-4774-87de-5e9f81a8c73b",
   "metadata": {},
   "outputs": [],
   "source": []
  },
  {
   "cell_type": "code",
   "execution_count": null,
   "id": "64fb9119-4fd9-4106-b944-1bfadc504e05",
   "metadata": {},
   "outputs": [],
   "source": []
  },
  {
   "cell_type": "code",
   "execution_count": null,
   "id": "fc19437c-5d81-4fe2-9178-3d9fb0589acf",
   "metadata": {},
   "outputs": [],
   "source": [
    "Q3. What is multiple inheritance? Write a python code to demonstrate multiple inheritance."
   ]
  },
  {
   "cell_type": "code",
   "execution_count": null,
   "id": "c412f1b7-b25b-43e6-b43c-618078a9abba",
   "metadata": {},
   "outputs": [],
   "source": [
    "ANS=>multiple inheritance is a part of inheritance where multiple base class and one derived class and \n",
    "    all base class inherited(properties of one class pass to another class) into derived class"
   ]
  },
  {
   "cell_type": "code",
   "execution_count": 17,
   "id": "717b278a-4a73-4cc9-9e47-2e0b3e0ed42f",
   "metadata": {},
   "outputs": [],
   "source": [
    "class A:\n",
    "    def fun1(self):\n",
    "        print(\"first class\")           -->base class\n",
    "        \n",
    "class B:\n",
    "    def fun2(self):\n",
    "           print(\"second class\")      --base class     \n",
    "\n",
    "class C(A,B):\n",
    "    def fun3(self):\n",
    "        print(\"third class\")           -->derived class"
   ]
  },
  {
   "cell_type": "code",
   "execution_count": 18,
   "id": "440e4020-08f7-4c30-a28d-c1e4f90c53b0",
   "metadata": {},
   "outputs": [
    {
     "name": "stdout",
     "output_type": "stream",
     "text": [
      "first class\n",
      "second class\n",
      "third class\n"
     ]
    }
   ],
   "source": [
    "obj=C()\n",
    "obj.fun1()\n",
    "obj.fun2()\n",
    "obj.fun3()"
   ]
  },
  {
   "cell_type": "code",
   "execution_count": null,
   "id": "912d449d-c305-4d62-8bc4-974212600bcc",
   "metadata": {},
   "outputs": [],
   "source": []
  },
  {
   "cell_type": "code",
   "execution_count": null,
   "id": "f2a21499-780c-4c0d-9158-a2c0672344d0",
   "metadata": {},
   "outputs": [],
   "source": []
  },
  {
   "cell_type": "code",
   "execution_count": null,
   "id": "e12b3fd4-3f85-48b5-880c-7e65747de8d5",
   "metadata": {},
   "outputs": [],
   "source": []
  },
  {
   "cell_type": "code",
   "execution_count": null,
   "id": "1555b215-8a9d-4f2a-bb61-33b9dae101c3",
   "metadata": {},
   "outputs": [],
   "source": [
    "Q4. What are getter and setter in python? Create a class and create a getter and a setter method in this\n",
    "class.\n",
    "Ans->In Python, getters and setters are not the same as those in other object-oriented programming\n",
    "     languages. \n",
    "     Basically, the main purpose of using getters and setters in object-oriented programs is to \n",
    "     ensure data  encapsulation. Private variables in python are not actually hidden fields like \n",
    "    in other object oriented languages. Getters and Setters in python are often used when:\n",
    "\n",
    "    We use getters & setters to add validation logic around getting and setting a value.\n",
    "    To avoid direct access of a class field i.e. private variables cannot be accessed directly or \n",
    "    modified by external user."
   ]
  },
  {
   "cell_type": "code",
   "execution_count": null,
   "id": "1efb59d7-5942-40fc-bae6-08ef4e6eadcf",
   "metadata": {},
   "outputs": [],
   "source": []
  },
  {
   "cell_type": "code",
   "execution_count": null,
   "id": "c55b7e76-b120-4177-a4fd-9b1551350f9d",
   "metadata": {},
   "outputs": [],
   "source": []
  },
  {
   "cell_type": "code",
   "execution_count": null,
   "id": "2f1d6d75-2c58-4e37-8e8e-ba45eb6775f8",
   "metadata": {},
   "outputs": [],
   "source": [
    "Q5.What is method overriding in python? Write a python code to demonstrate method overriding.\n",
    "Ans-># Python program to demonstrate\n",
    "# method overriding\n",
    "\n",
    "\n",
    "# Defining parent class\n",
    "class Parent():\n",
    "\t\n",
    "\t# Constructor\n",
    "\tdef __init__(self):\n",
    "\t\tself.value = \"Inside Parent\"\n",
    "\t\t\n",
    "\t# Parent's show method\n",
    "\tdef show(self):\n",
    "\t\tprint(self.value)\n",
    "\t\t\n",
    "# Defining child class\n",
    "class Child(Parent):\n",
    "\t\n",
    "\t# Constructor\n",
    "\tdef __init__(self):\n",
    "\t\tself.value = \"Inside Child\"\n",
    "\t\t\n",
    "\t# Child's show method\n",
    "\tdef show(self):\n",
    "\t\tprint(self.value)\n",
    "\t\t\n",
    "\t\t\n",
    "# Driver's code\n",
    "obj1 = Parent()\n",
    "obj2 = Child()\n",
    "\n",
    "obj1.show()\n",
    "obj2.show()\n"
   ]
  }
 ],
 "metadata": {
  "kernelspec": {
   "display_name": "Python 3 (ipykernel)",
   "language": "python",
   "name": "python3"
  },
  "language_info": {
   "codemirror_mode": {
    "name": "ipython",
    "version": 3
   },
   "file_extension": ".py",
   "mimetype": "text/x-python",
   "name": "python",
   "nbconvert_exporter": "python",
   "pygments_lexer": "ipython3",
   "version": "3.10.8"
  }
 },
 "nbformat": 4,
 "nbformat_minor": 5
}
